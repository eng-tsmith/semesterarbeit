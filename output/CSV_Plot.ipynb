{
 "cells": [
  {
   "cell_type": "code",
   "execution_count": null,
   "metadata": {
    "collapsed": true
   },
   "outputs": [],
   "source": [
    "from csv import reader\n",
    "from matplotlib import pyplot\n",
    "import matplotlib.patches as mpatches\n",
    "\n",
    "with open('report.csv', 'r') as f:\n",
    "    data = list(reader(f))\n",
    "\n",
    "cost = [i[3] for i in data[1::]]\n",
    "acc = [i[4] for i in data[1::]]\n",
    "\n",
    "#  Cost / Acc over time\n",
    "pyplot.plot(range(len(cost)), cost, 'r', range(len(acc)), acc, 'b')\n",
    "#  legend\n",
    "red_patch = mpatches.Patch(color='red', label='Cost')\n",
    "blue_patch = mpatches.Patch(color='blue', label='Accuracy')\n",
    "pyplot.legend(handles=[blue_patch, red_patch])\n",
    "#  Title and axis\n",
    "pyplot.title('Cost & Accuracy over Time')\n",
    "pyplot.xlabel('Iterations')\n",
    "pyplot.ylabel('Cost CTC / Accuracy')\n",
    "pyplot.show()\n"
   ]
  }
 ],
 "metadata": {
  "anaconda-cloud": {},
  "kernelspec": {
   "display_name": "Python [Root]",
   "language": "python",
   "name": "Python [Root]"
  },
  "language_info": {
   "codemirror_mode": {
    "name": "ipython",
    "version": 3
   },
   "file_extension": ".py",
   "mimetype": "text/x-python",
   "name": "python",
   "nbconvert_exporter": "python",
   "pygments_lexer": "ipython3",
   "version": "3.5.2"
  }
 },
 "nbformat": 4,
 "nbformat_minor": 0
}
