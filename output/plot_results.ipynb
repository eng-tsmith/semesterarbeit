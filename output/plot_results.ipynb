{
 "cells": [
  {
   "cell_type": "code",
   "execution_count": 44,
   "metadata": {
    "collapsed": false
   },
   "outputs": [
    {
     "name": "stdout",
     "output_type": "stream",
     "text": [
      "Prepared Data\n",
      "13240\n"
     ]
    }
   ],
   "source": [
    "%matplotlib inline\n",
    "from csv import reader\n",
    "import matplotlib\n",
    "import numpy as np\n",
    "\n",
    "import matplotlib.pyplot as pyplot\n",
    "import matplotlib.patches as mpatches\n",
    "\n",
    "with open('report.csv', 'r') as f:\n",
    "    data = list(reader(f))\n",
    "    \n",
    "    \n",
    "n_words = 13000\n",
    "\n",
    "# [\"Label\", \"Pred\", \"Loss\", \"CER\", \"WER\", \"Test Set:\"]    \n",
    "loss = [i[2] for i in data[1::]]\n",
    "cer = [i[3] for i in data[1::]]\n",
    "wer = [i[4] for i in data[1::]]\n",
    "\n",
    "print(\"Prepared Data\")\n",
    "\n",
    "loss2 = [float(i[1:-1]) for i in loss]\n",
    "cer2 = [float(i) for i in cer]\n",
    "wer2 = [float(i) for i in cer]\n",
    "print(len(cer))\n"
   ]
  },
  {
   "cell_type": "code",
   "execution_count": 45,
   "metadata": {
    "collapsed": false
   },
   "outputs": [
    {
     "data": {
      "image/png": "[encoded data removed]",
      "text/plain": [
       "<matplotlib.figure.Figure at 0x7fbe078f7b70>"
      ]
     },
     "metadata": {},
     "output_type": "display_data"
    },
    {
     "name": "stdout",
     "output_type": "stream",
     "text": [
      "CER last 13000 words =  16710.0\n",
      "WER last 13000 words =  16710.0\n",
      "Done\n"
     ]
    }
   ],
   "source": [
    "#  Cost / Acc over time\\n\",\n",
    "#pyplot.plot(range(len(cost_train)), loss_train, 'r', range(len(acc_train)), acc_train, 'b')\n",
    "pyplot.plot(range(len(loss2)), loss2, 'r')\n",
    "#  legend\\n\",\n",
    "red_patch = mpatches.Patch(color='red', label='Cost')\n",
    "#blue_patch = mpatches.Patch(color='blue', label='Accuracy')\n",
    "#pyplot.legend(handles=[blue_patch, red_patch])\n",
    "pyplot.legend(handles=[red_patch])\n",
    "#  Title and axis\\n\",\n",
    "pyplot.title('Cost over Time Training')\n",
    "pyplot.xlabel('Iterations')\n",
    "pyplot.ylabel('Cost CTC')\n",
    "pyplot.show()\n",
    "\n",
    "print(\"CER last\",n_words, \"words = \", np.sum(cer2[-n_words:]))\n",
    "print(\"WER last\",n_words, \"words = \", np.sum(wer2[-n_words:]))\n",
    "\n",
    "print(\"Done\")"
   ]
  },
  {
   "cell_type": "code",
   "execution_count": null,
   "metadata": {
    "collapsed": true
   },
   "outputs": [],
   "source": []
  }
 ],
 "metadata": {
  "anaconda-cloud": {},
  "kernelspec": {
   "display_name": "Python [Root]",
   "language": "python",
   "name": "Python [Root]"
  },
  "language_info": {
   "codemirror_mode": {
    "name": "ipython",
    "version": 3
   },
   "file_extension": ".py",
   "mimetype": "text/x-python",
   "name": "python",
   "nbconvert_exporter": "python",
   "pygments_lexer": "ipython3",
   "version": "3.5.2"
  }
 },
 "nbformat": 4,
 "nbformat_minor": 0
}
