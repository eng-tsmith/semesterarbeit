{
 "cells": [
  {
   "cell_type": "code",
   "execution_count": null,
   "metadata": {
    "collapsed": true
   },
   "outputs": [],
   "source": [
    "%matplotlib inline\n",
    "from csv import reader\n",
    "import matplotlib\n",
    "\n",
    "import matplotlib.pyplot as pyplot\n",
    "import matplotlib.patches as mpatches\n",
    "\n",
    "with open('report.csv', 'r') as f:\n",
    "    data = list(reader(f))\n",
    "\n",
    "print_data = [i[5] for i in data[1::]]\n",
    "cost = [i[3] for i in data[1::]]\n",
    "acc = [i[4] for i in data[1::]]\n",
    "\n",
    "cost_train = []\n",
    "acc_train = []\n",
    "cost_test = []\n",
    "acc_test = []\n",
    "\n",
    "for j in range(len(print_data)):\n",
    "    if print_data[j] == '0':\n",
    "        cost_train.append(cost[j])\n",
    "        acc_train.append(acc[j])\n",
    "    if print_data[j] == '1':\n",
    "        cost_test.append(cost[j])\n",
    "        acc_test.append(acc[j])\n",
    "print(\"Prepared Data\")"
   ]
  },
  {
   "cell_type": "code",
   "execution_count": null,
   "metadata": {
    "collapsed": true
   },
   "outputs": [],
   "source": [
    "#  Cost / Acc over time\\n\",\n",
    "pyplot.plot(range(len(cost_train)), cost_train, 'r', range(len(acc_train)), acc_train, 'b')\n",
    "#  legend\\n\",\n",
    "red_patch = mpatches.Patch(color='red', label='Cost')\n",
    "blue_patch = mpatches.Patch(color='blue', label='Accuracy')\n",
    "pyplot.legend(handles=[blue_patch, red_patch])\n",
    "#  Title and axis\\n\",\n",
    "pyplot.title('Cost & Accuracy over Time Training')\n",
    "pyplot.xlabel('Iterations')\n",
    "pyplot.ylabel('Cost CTC / Accuracy')\n",
    "pyplot.show()\n",
    "\n",
    "print(\"Done\")"
   ]
  },
  {
   "cell_type": "code",
   "execution_count": null,
   "metadata": {
    "collapsed": true
   },
   "outputs": [],
   "source": [
    "#  Cost / Acc over time\\n\",\n",
    "pyplot.plot(range(len(cost_test)), cost_test, 'r', range(len(acc_test)), acc_test, 'b')\n",
    "#  legend\\n\",\n",
    "red_patch = mpatches.Patch(color='red', label='Cost')\n",
    "blue_patch = mpatches.Patch(color='blue', label='Accuracy')\n",
    "pyplot.legend(handles=[blue_patch, red_patch])\n",
    "#  Title and axis\\n\",\n",
    "pyplot.title('Cost & Accuracy over Time Test')\n",
    "pyplot.xlabel('Iterations')\n",
    "pyplot.ylabel('Cost CTC / Accuracy')\n",
    "pyplot.show()\n",
    "\n",
    "print(\"Done\")"
   ]
  }
 ],
 "metadata": {
  "anaconda-cloud": {},
  "kernelspec": {
   "display_name": "Python [Root]",
   "language": "python",
   "name": "Python [Root]"
  },
  "language_info": {
   "codemirror_mode": {
    "name": "ipython",
    "version": 3
   },
   "file_extension": ".py",
   "mimetype": "text/x-python",
   "name": "python",
   "nbconvert_exporter": "python",
   "pygments_lexer": "ipython3",
   "version": "3.5.2"
  }
 },
 "nbformat": 4,
 "nbformat_minor": 0
}
