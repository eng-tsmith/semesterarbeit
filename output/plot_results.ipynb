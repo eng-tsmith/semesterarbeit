{
 "cells": [
  {
   "cell_type": "code",
   "execution_count": 11,
   "metadata": {
    "collapsed": false
   },
   "outputs": [
    {
     "name": "stdout",
     "output_type": "stream",
     "text": [
      "Prepared Data\n",
      "0\n"
     ]
    }
   ],
   "source": [
    "%matplotlib inline\n",
    "from csv import reader\n",
    "import matplotlib\n",
    "import numpy as np\n",
    "\n",
    "import matplotlib.pyplot as pyplot\n",
    "import matplotlib.patches as mpatches\n",
    "\n",
    "with open('report_train.csv', 'r') as f:\n",
    "    data_train = list(reader(f))\n",
    "    \n",
    "with open('report_test.csv', 'r') as f:\n",
    "    data_test = list(reader(f))\n",
    "    \n",
    "    \n",
    "n_words = 5000\n",
    "\n",
    "# [\"Filename\", \"Loss\", \"Test Set:\"]    \n",
    "loss_train = [i[1] for i in data_train[1::]]\n",
    "\n",
    "# [\"File\", \"Label\", \"Pred\", \"Loss\", \"CE\", \"CER\", \"WER\", \"WER_LIB\", \"Test Set:\"]   \n",
    "loss_test = [i[3] for i in data_test[1::]]\n",
    "ce_test = [i[4] for i in data_test[1::]]  # CER\n",
    "cer_test = [i[5] for i in data_test[1::]]  # CER normalized\n",
    "wer_test = [i[6] for i in data_test[1::]]\n",
    "werlib_test = [i[7] for i in data_test[1::]]\n",
    "\n",
    "print(\"Prepared Data\")\n",
    "\n",
    "# Training Data\n",
    "loss2_train = [float(i[1:-1]) for i in loss_train]\n",
    "# Test Data\n",
    "loss2_test = [float(i[1:-1].split(',')[0]) for i in loss_test]  #loss2_test = [float(i) for i in loss_test]  #\n",
    "cer2_test = [np.fromstring(i[1:-1], sep=',') for i in cer_test]\n",
    "wer2_test = [np.fromstring(i[1:-1], sep=',') for i in wer_test]\n",
    "\n",
    "print((cer2_test[0][0]))"
   ]
  },
  {
   "cell_type": "code",
   "execution_count": 12,
   "metadata": {
    "collapsed": false
   },
   "outputs": [
    {
     "data": {
      "image/png": "[encoded data removed]",
      "text/plain": [
       "<matplotlib.figure.Figure at 0x7f38b16ecbe0>"
      ]
     },
     "metadata": {},
     "output_type": "display_data"
    },
    {
     "name": "stdout",
     "output_type": "stream",
     "text": [
      "1369\n",
      "Done\n"
     ]
    }
   ],
   "source": [
    "#  Cost / Acc over time\\n\",\n",
    "#pyplot.plot(range(len(cost_train)), loss_train, 'r', range(len(acc_train)), acc_train, 'b')\n",
    "pyplot.plot(range(len(loss2_train)), loss2_train, 'r')\n",
    "#  legend\\n\",\n",
    "red_patch = mpatches.Patch(color='red', label='Cost')\n",
    "#blue_patch = mpatches.Patch(color='blue', label='Accuracy')\n",
    "#pyplot.legend(handles=[blue_patch, red_patch])\n",
    "pyplot.legend(handles=[red_patch])\n",
    "#  Title and axis\\n\",\n",
    "pyplot.title('Cost over Time Training')\n",
    "pyplot.xlabel('Iterations')\n",
    "pyplot.ylabel('Cost CTC')\n",
    "pyplot.show()\n",
    "\n",
    "print(len(loss2_train))\n",
    "print(\"Done\")"
   ]
  },
  {
   "cell_type": "code",
   "execution_count": 10,
   "metadata": {
    "collapsed": false
   },
   "outputs": [
    {
     "data": {
      "image/png": "[encoded data removed]",
      "text/plain": [
       "<matplotlib.figure.Figure at 0x7f38b11db828>"
      ]
     },
     "metadata": {},
     "output_type": "display_data"
    },
    {
     "name": "stdout",
     "output_type": "stream",
     "text": [
      "CER last 13000 words =  0.0\n",
      "WER last 13000 words =  0.0\n",
      "Done\n"
     ]
    }
   ],
   "source": [
    "#  Cost / Acc over time\\n\",\n",
    "#pyplot.plot(range(len(cost_train)), loss_train, 'r', range(len(acc_train)), acc_train, 'b')\n",
    "pyplot.plot(range(len(loss2_test)), loss2_test, 'r')\n",
    "#  legend\\n\",\n",
    "red_patch = mpatches.Patch(color='red', label='Cost')\n",
    "#blue_patch = mpatches.Patch(color='blue', label='Accuracy')\n",
    "#pyplot.legend(handles=[blue_patch, red_patch])\n",
    "pyplot.legend(handles=[red_patch])\n",
    "#  Title and axis\\n\",\n",
    "pyplot.title('Cost over Time Testing')\n",
    "pyplot.xlabel('Iterations')\n",
    "pyplot.ylabel('Cost CTC')\n",
    "pyplot.show()\n",
    "\n",
    "print(\"CER last\",n_words, \"words = \", np.sum(cer2_test[-n_words:]))\n",
    "print(\"WER last\",n_words, \"words = \", np.sum(wer2_test[-n_words:]))\n",
    "\n",
    "print(\"Done\")"
   ]
  },
  {
   "cell_type": "code",
   "execution_count": null,
   "metadata": {
    "collapsed": true
   },
   "outputs": [],
   "source": [
    ""
   ]
  }
 ],
 "metadata": {
  "anaconda-cloud": {},
  "kernelspec": {
   "display_name": "Python [Root]",
   "language": "python",
   "name": "Python [Root]"
  },
  "language_info": {
   "codemirror_mode": {
    "name": "ipython",
    "version": 3.0
   },
   "file_extension": ".py",
   "mimetype": "text/x-python",
   "name": "python",
   "nbconvert_exporter": "python",
   "pygments_lexer": "ipython3",
   "version": "3.5.2"
  }
 },
 "nbformat": 4,
 "nbformat_minor": 0
}